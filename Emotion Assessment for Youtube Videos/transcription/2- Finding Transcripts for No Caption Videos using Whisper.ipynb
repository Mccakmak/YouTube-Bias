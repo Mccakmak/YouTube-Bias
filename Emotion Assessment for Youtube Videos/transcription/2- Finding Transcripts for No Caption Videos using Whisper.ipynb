{
 "cells": [
  {
   "cell_type": "code",
   "execution_count": 1,
   "id": "3c0b13f9",
   "metadata": {},
   "outputs": [],
   "source": [
    "# FileNotFoundError: [WinError 2] The system cannot find the file specified\n",
    "# https://www.geeksforgeeks.org/how-to-install-ffmpeg-on-windows/\n",
    "import whisper\n",
    "from pytube import YouTube\n",
    "from transformers import pipeline\n",
    "import os\n",
    "import pandas as pd\n",
    "from tqdm import tqdm"
   ]
  },
  {
   "cell_type": "code",
   "execution_count": 2,
   "id": "0c084367",
   "metadata": {},
   "outputs": [
    {
     "name": "stderr",
     "output_type": "stream",
     "text": [
      "No model was supplied, defaulted to sshleifer/distilbart-cnn-12-6 and revision a4f8f3e (https://huggingface.co/sshleifer/distilbart-cnn-12-6).\n",
      "Using a pipeline without specifying a model name and revision in production is not recommended.\n"
     ]
    }
   ],
   "source": [
    "model = whisper.load_model(\"base\")\n",
    "summarizer = pipeline(\"summarization\")"
   ]
  },
  {
   "cell_type": "code",
   "execution_count": 2,
   "id": "103e2909",
   "metadata": {},
   "outputs": [
    {
     "data": {
      "text/html": [
       "<div>\n",
       "<style scoped>\n",
       "    .dataframe tbody tr th:only-of-type {\n",
       "        vertical-align: middle;\n",
       "    }\n",
       "\n",
       "    .dataframe tbody tr th {\n",
       "        vertical-align: top;\n",
       "    }\n",
       "\n",
       "    .dataframe thead th {\n",
       "        text-align: right;\n",
       "    }\n",
       "</style>\n",
       "<table border=\"1\" class=\"dataframe\">\n",
       "  <thead>\n",
       "    <tr style=\"text-align: right;\">\n",
       "      <th></th>\n",
       "      <th>title</th>\n",
       "      <th>video_id</th>\n",
       "      <th>url</th>\n",
       "      <th>channel</th>\n",
       "      <th>parent_id</th>\n",
       "      <th>parent</th>\n",
       "      <th>depth</th>\n",
       "      <th>lang</th>\n",
       "      <th>transcript</th>\n",
       "    </tr>\n",
       "  </thead>\n",
       "  <tbody>\n",
       "    <tr>\n",
       "      <th>0</th>\n",
       "      <td>China Navy to BBC: 'Stay away from islands' - ...</td>\n",
       "      <td>LVeKbEgn50o</td>\n",
       "      <td>https://www.youtube.com/watch?v=LVeKbEgn50o</td>\n",
       "      <td>BBC News</td>\n",
       "      <td>nbBsh46aSz4</td>\n",
       "      <td>https://www.youtube.com/watch?v=nbBsh46aSz4</td>\n",
       "      <td>1</td>\n",
       "      <td>en</td>\n",
       "      <td>it's just before dawn on the Philippine  islan...</td>\n",
       "    </tr>\n",
       "    <tr>\n",
       "      <th>1</th>\n",
       "      <td>Nike, H&amp;M face backlash in China over Uighur s...</td>\n",
       "      <td>qC_qOoBFsMc</td>\n",
       "      <td>https://www.youtube.com/watch?v=qC_qOoBFsMc</td>\n",
       "      <td>DW News</td>\n",
       "      <td>s_eNkqwp_LA</td>\n",
       "      <td>https://www.youtube.com/watch?v=s_eNkqwp_LA</td>\n",
       "      <td>1</td>\n",
       "      <td>en</td>\n",
       "      <td>u.s border para maker nike is facing a  backla...</td>\n",
       "    </tr>\n",
       "    <tr>\n",
       "      <th>2</th>\n",
       "      <td>What do you do when someone just doesn't like ...</td>\n",
       "      <td>Y4gly9n9RBo</td>\n",
       "      <td>https://www.youtube.com/watch?v=Y4gly9n9RBo</td>\n",
       "      <td>TEDx Talks</td>\n",
       "      <td>s_eNkqwp_LA</td>\n",
       "      <td>https://www.youtube.com/watch?v=s_eNkqwp_LA</td>\n",
       "      <td>1</td>\n",
       "      <td>en</td>\n",
       "      <td>Translator: Rhonda Jacobs Reviewer: Tanya Cush...</td>\n",
       "    </tr>\n",
       "    <tr>\n",
       "      <th>3</th>\n",
       "      <td>99 Years Later... We Solved It</td>\n",
       "      <td>JFFhD5HeByM</td>\n",
       "      <td>https://www.youtube.com/watch?v=JFFhD5HeByM</td>\n",
       "      <td>Physics Girl</td>\n",
       "      <td>tcKw5jiT6wg</td>\n",
       "      <td>https://www.youtube.com/watch?v=tcKw5jiT6wg</td>\n",
       "      <td>1</td>\n",
       "      <td>en</td>\n",
       "      <td>look at this okay so here's a trail and  the t...</td>\n",
       "    </tr>\n",
       "    <tr>\n",
       "      <th>4</th>\n",
       "      <td>Elon Musk talks Twitter, Tesla and how his bra...</td>\n",
       "      <td>cdZZpaB2kDM</td>\n",
       "      <td>https://www.youtube.com/watch?v=cdZZpaB2kDM</td>\n",
       "      <td>TED</td>\n",
       "      <td>tcKw5jiT6wg</td>\n",
       "      <td>https://www.youtube.com/watch?v=tcKw5jiT6wg</td>\n",
       "      <td>1</td>\n",
       "      <td>en</td>\n",
       "      <td>hello  so  in just a few minutes um elon musk ...</td>\n",
       "    </tr>\n",
       "  </tbody>\n",
       "</table>\n",
       "</div>"
      ],
      "text/plain": [
       "                                               title     video_id  \\\n",
       "0  China Navy to BBC: 'Stay away from islands' - ...  LVeKbEgn50o   \n",
       "1  Nike, H&M face backlash in China over Uighur s...  qC_qOoBFsMc   \n",
       "2  What do you do when someone just doesn't like ...  Y4gly9n9RBo   \n",
       "3                     99 Years Later... We Solved It  JFFhD5HeByM   \n",
       "4  Elon Musk talks Twitter, Tesla and how his bra...  cdZZpaB2kDM   \n",
       "\n",
       "                                           url       channel    parent_id  \\\n",
       "0  https://www.youtube.com/watch?v=LVeKbEgn50o      BBC News  nbBsh46aSz4   \n",
       "1  https://www.youtube.com/watch?v=qC_qOoBFsMc       DW News  s_eNkqwp_LA   \n",
       "2  https://www.youtube.com/watch?v=Y4gly9n9RBo    TEDx Talks  s_eNkqwp_LA   \n",
       "3  https://www.youtube.com/watch?v=JFFhD5HeByM  Physics Girl  tcKw5jiT6wg   \n",
       "4  https://www.youtube.com/watch?v=cdZZpaB2kDM           TED  tcKw5jiT6wg   \n",
       "\n",
       "                                        parent  depth lang  \\\n",
       "0  https://www.youtube.com/watch?v=nbBsh46aSz4      1   en   \n",
       "1  https://www.youtube.com/watch?v=s_eNkqwp_LA      1   en   \n",
       "2  https://www.youtube.com/watch?v=s_eNkqwp_LA      1   en   \n",
       "3  https://www.youtube.com/watch?v=tcKw5jiT6wg      1   en   \n",
       "4  https://www.youtube.com/watch?v=tcKw5jiT6wg      1   en   \n",
       "\n",
       "                                          transcript  \n",
       "0  it's just before dawn on the Philippine  islan...  \n",
       "1  u.s border para maker nike is facing a  backla...  \n",
       "2  Translator: Rhonda Jacobs Reviewer: Tanya Cush...  \n",
       "3  look at this okay so here's a trail and  the t...  \n",
       "4  hello  so  in just a few minutes um elon musk ...  "
      ]
     },
     "execution_count": 2,
     "metadata": {},
     "output_type": "execute_result"
    }
   ],
   "source": [
    "df = pd.read_csv(\"../data/video_transcription.csv\")\n",
    "df.head(5)"
   ]
  },
  {
   "cell_type": "code",
   "execution_count": 4,
   "id": "8f427344",
   "metadata": {},
   "outputs": [
    {
     "data": {
      "text/plain": [
       "array(['L0oo8PsUKrA', '2Shla50pRxA', 'nbBsh46aSz4', 'tcKw5jiT6wg',\n",
       "       'nfGkJAX2WUc'], dtype=object)"
      ]
     },
     "execution_count": 4,
     "metadata": {},
     "output_type": "execute_result"
    }
   ],
   "source": [
    "# Find the video_ids that has no transcription\n",
    "no_captions = df[df['transcript'] == 'No transcription']['video_id'].unique()\n",
    "no_captions[:5]"
   ]
  },
  {
   "cell_type": "code",
   "execution_count": 5,
   "id": "d461161a",
   "metadata": {},
   "outputs": [],
   "source": [
    "def get_audio(url):\n",
    "    yt = YouTube(url)\n",
    "    video = yt.streams.filter(only_audio=True).first()\n",
    "    out_file=video.download(output_path=\"videos\\\\.\")\n",
    "    base, ext = os.path.splitext(out_file)\n",
    "    new_file = base+'.mp3'\n",
    "    os.rename(out_file, new_file)\n",
    "    return new_file\n",
    "\n",
    "def get_text(video_id):\n",
    "    url = 'https://www.youtube.com/watch?v=' + video_id\n",
    "    file = get_audio(url)\n",
    "    result = model.transcribe(file)\n",
    "    return result['text']"
   ]
  },
  {
   "cell_type": "code",
   "execution_count": 6,
   "id": "d39edb66",
   "metadata": {},
   "outputs": [],
   "source": [
    "# Slice the data if you need.\n",
    "no_cap_slice = no_captions[:]"
   ]
  },
  {
   "cell_type": "code",
   "execution_count": 17,
   "id": "4840dca1",
   "metadata": {
    "scrolled": true
   },
   "outputs": [
    {
     "name": "stderr",
     "output_type": "stream",
     "text": [
      "100%|███████████████████████████████████████████████████████████████████████████████| 50/50 [3:52:21<00:00, 278.83s/it]\n"
     ]
    }
   ],
   "source": [
    "transcriptions = []\n",
    "for video_id in tqdm(no_cap_slice):\n",
    "    try:\n",
    "        transcription = get_text(video_id)\n",
    "        transcriptions.append(transcription)\n",
    "    except:\n",
    "        # Live show, Not available, removed\n",
    "        transcriptions.append(\"Not Video\")"
   ]
  },
  {
   "cell_type": "code",
   "execution_count": 19,
   "id": "d452f9d9",
   "metadata": {},
   "outputs": [],
   "source": [
    "# Save in csv file with video_id\n",
    "pd.DataFrame({'video_id':no_cap_slice, 'transcription': transcriptions}).to_csv('video_transcription_with_whisper.csv', index=False)"
   ]
  }
 ],
 "metadata": {
  "kernelspec": {
   "display_name": "Python 3 (ipykernel)",
   "language": "python",
   "name": "python3"
  },
  "language_info": {
   "codemirror_mode": {
    "name": "ipython",
    "version": 3
   },
   "file_extension": ".py",
   "mimetype": "text/x-python",
   "name": "python",
   "nbconvert_exporter": "python",
   "pygments_lexer": "ipython3",
   "version": "3.9.10"
  }
 },
 "nbformat": 4,
 "nbformat_minor": 5
}
