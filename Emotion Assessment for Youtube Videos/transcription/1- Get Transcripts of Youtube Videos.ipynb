{
 "cells": [
  {
   "cell_type": "code",
   "execution_count": 1,
   "id": "494a2987",
   "metadata": {},
   "outputs": [],
   "source": [
    "import pandas as pd\n",
    "from tqdm import tqdm\n",
    "#pip install youtube-transcript-api\n",
    "from youtube_transcript_api import YouTubeTranscriptApi"
   ]
  },
  {
   "cell_type": "code",
   "execution_count": 4,
   "id": "241c7f2a",
   "metadata": {
    "scrolled": false
   },
   "outputs": [
    {
     "data": {
      "text/html": [
       "<div>\n",
       "<style scoped>\n",
       "    .dataframe tbody tr th:only-of-type {\n",
       "        vertical-align: middle;\n",
       "    }\n",
       "\n",
       "    .dataframe tbody tr th {\n",
       "        vertical-align: top;\n",
       "    }\n",
       "\n",
       "    .dataframe thead th {\n",
       "        text-align: right;\n",
       "    }\n",
       "</style>\n",
       "<table border=\"1\" class=\"dataframe\">\n",
       "  <thead>\n",
       "    <tr style=\"text-align: right;\">\n",
       "      <th></th>\n",
       "      <th>title</th>\n",
       "      <th>video_id</th>\n",
       "      <th>url</th>\n",
       "      <th>channel</th>\n",
       "      <th>parent_id</th>\n",
       "      <th>parent</th>\n",
       "      <th>depth</th>\n",
       "      <th>lang</th>\n",
       "    </tr>\n",
       "  </thead>\n",
       "  <tbody>\n",
       "    <tr>\n",
       "      <th>0</th>\n",
       "      <td>China Navy to BBC: 'Stay away from islands' - ...</td>\n",
       "      <td>LVeKbEgn50o</td>\n",
       "      <td>https://www.youtube.com/watch?v=LVeKbEgn50o</td>\n",
       "      <td>BBC News</td>\n",
       "      <td>nbBsh46aSz4</td>\n",
       "      <td>https://www.youtube.com/watch?v=nbBsh46aSz4</td>\n",
       "      <td>1</td>\n",
       "      <td>en</td>\n",
       "    </tr>\n",
       "    <tr>\n",
       "      <th>1</th>\n",
       "      <td>Nike, H&amp;M face backlash in China over Uighur s...</td>\n",
       "      <td>qC_qOoBFsMc</td>\n",
       "      <td>https://www.youtube.com/watch?v=qC_qOoBFsMc</td>\n",
       "      <td>DW News</td>\n",
       "      <td>s_eNkqwp_LA</td>\n",
       "      <td>https://www.youtube.com/watch?v=s_eNkqwp_LA</td>\n",
       "      <td>1</td>\n",
       "      <td>en</td>\n",
       "    </tr>\n",
       "    <tr>\n",
       "      <th>2</th>\n",
       "      <td>What do you do when someone just doesn't like ...</td>\n",
       "      <td>Y4gly9n9RBo</td>\n",
       "      <td>https://www.youtube.com/watch?v=Y4gly9n9RBo</td>\n",
       "      <td>TEDx Talks</td>\n",
       "      <td>s_eNkqwp_LA</td>\n",
       "      <td>https://www.youtube.com/watch?v=s_eNkqwp_LA</td>\n",
       "      <td>1</td>\n",
       "      <td>en</td>\n",
       "    </tr>\n",
       "    <tr>\n",
       "      <th>3</th>\n",
       "      <td>99 Years Later... We Solved It</td>\n",
       "      <td>JFFhD5HeByM</td>\n",
       "      <td>https://www.youtube.com/watch?v=JFFhD5HeByM</td>\n",
       "      <td>Physics Girl</td>\n",
       "      <td>tcKw5jiT6wg</td>\n",
       "      <td>https://www.youtube.com/watch?v=tcKw5jiT6wg</td>\n",
       "      <td>1</td>\n",
       "      <td>en</td>\n",
       "    </tr>\n",
       "    <tr>\n",
       "      <th>4</th>\n",
       "      <td>Elon Musk talks Twitter, Tesla and how his bra...</td>\n",
       "      <td>cdZZpaB2kDM</td>\n",
       "      <td>https://www.youtube.com/watch?v=cdZZpaB2kDM</td>\n",
       "      <td>TED</td>\n",
       "      <td>tcKw5jiT6wg</td>\n",
       "      <td>https://www.youtube.com/watch?v=tcKw5jiT6wg</td>\n",
       "      <td>1</td>\n",
       "      <td>en</td>\n",
       "    </tr>\n",
       "  </tbody>\n",
       "</table>\n",
       "</div>"
      ],
      "text/plain": [
       "                                               title     video_id  \\\n",
       "0  China Navy to BBC: 'Stay away from islands' - ...  LVeKbEgn50o   \n",
       "1  Nike, H&M face backlash in China over Uighur s...  qC_qOoBFsMc   \n",
       "2  What do you do when someone just doesn't like ...  Y4gly9n9RBo   \n",
       "3                     99 Years Later... We Solved It  JFFhD5HeByM   \n",
       "4  Elon Musk talks Twitter, Tesla and how his bra...  cdZZpaB2kDM   \n",
       "\n",
       "                                           url       channel    parent_id  \\\n",
       "0  https://www.youtube.com/watch?v=LVeKbEgn50o      BBC News  nbBsh46aSz4   \n",
       "1  https://www.youtube.com/watch?v=qC_qOoBFsMc       DW News  s_eNkqwp_LA   \n",
       "2  https://www.youtube.com/watch?v=Y4gly9n9RBo    TEDx Talks  s_eNkqwp_LA   \n",
       "3  https://www.youtube.com/watch?v=JFFhD5HeByM  Physics Girl  tcKw5jiT6wg   \n",
       "4  https://www.youtube.com/watch?v=cdZZpaB2kDM           TED  tcKw5jiT6wg   \n",
       "\n",
       "                                        parent  depth lang  \n",
       "0  https://www.youtube.com/watch?v=nbBsh46aSz4      1   en  \n",
       "1  https://www.youtube.com/watch?v=s_eNkqwp_LA      1   en  \n",
       "2  https://www.youtube.com/watch?v=s_eNkqwp_LA      1   en  \n",
       "3  https://www.youtube.com/watch?v=tcKw5jiT6wg      1   en  \n",
       "4  https://www.youtube.com/watch?v=tcKw5jiT6wg      1   en  "
      ]
     },
     "execution_count": 4,
     "metadata": {},
     "output_type": "execute_result"
    }
   ],
   "source": [
    "df = pd.read_excel(\"../data/depth_documents.xlsx\")\n",
    "df.head(5)"
   ]
  },
  {
   "cell_type": "code",
   "execution_count": 3,
   "id": "fb7992b2",
   "metadata": {
    "scrolled": false
   },
   "outputs": [
    {
     "name": "stderr",
     "output_type": "stream",
     "text": [
      "100%|██████████████████████████████████████████████████████████████████████████| 14332/14332 [3:31:17<00:00,  1.13it/s]"
     ]
    },
    {
     "name": "stdout",
     "output_type": "stream",
     "text": [
      "Disabled transcription video:  1721\n",
      "12677.318484067917 seconds past\n"
     ]
    },
    {
     "name": "stderr",
     "output_type": "stream",
     "text": [
      "\n"
     ]
    }
   ],
   "source": [
    "# How many video does not have subtitles\n",
    "trans_disabled_count = 0\n",
    "all_transcriptions = []\n",
    "\n",
    "for video_id in tqdm(df.video_id):\n",
    "    transcript_list = None\n",
    "    try:\n",
    "        transcript_list = YouTubeTranscriptApi.list_transcripts(video_id)\n",
    "        for transcript in transcript_list:\n",
    "            trans_text = transcript.translate('en').fetch()[0]['text']\n",
    "            all_transcriptions.append(trans_text)\n",
    "            # No need for other transcriptions\n",
    "            break\n",
    "    # If there is error there is no transcription.\n",
    "    except:\n",
    "        trans_disabled_count+=1\n",
    "        all_transcriptions.append(\"No transcription\")\n",
    "\n",
    "\n",
    "print(\"Disabled transcription video: \",trans_disabled_count)"
   ]
  },
  {
   "cell_type": "code",
   "execution_count": 4,
   "id": "85935c2e",
   "metadata": {
    "scrolled": false
   },
   "outputs": [
    {
     "data": {
      "text/plain": [
       "\"u.s border para maker nike is facing a  backlash on social media in china after  saying it was  concerned about reports of forced labor  of  uighurs in the xinxiang region the  fallout comes after the eu and the u.s  imposed sanctions on chinese officials  for alleged human rights violations  there  nike is trending on social media in  china but not in a good way  it's facing a backlash after a statement  on china's policies in the xinjiang  province saying it won't use cotton from  the region  and it's not alone h m was singled out  this week for issuing a statement last  year in which it said it was concerned  about allegations of forced labor in  xinjiang  both h m and nika's statements haven't  been received well by people in china  as chinese we must show our patriotism i  don't buy these brands  and now i will ask my friends to boycott  them too  seeing those foreigners making money  from china but scolding it and  discrediting cotton from xinjiang  i will not buy those foreign brands i  will support domestic products  western brands are caught in the middle  of a feud between china and western  countries  which have imposed sanctions on chinese  officials because of the allegations of  forced labor  but while taking a stance on xinjiang  cotton is potentially a human rights  issue  it could hit their bottom lines in the  world's second largest  economy  [Music]  and dw's china specialist clifford  coonan is here in the studio with me  while chelsea delaney joins us in  frankfurt hello chelsea  i'm starting with clifford first because  i mean  china is making a lot of noise here and  the concerns mentioned by several global  fashion brands  they seem to have hit on earth i think  so i think actually what we're seeing  here are the  opening salvos in in what could be a  quite a serious trade conflict  um we've seen it before with um with  korea where um  over political concerns they they used  economic  uh weapons basically to attack korea we  see with australia  and now we're seeing it with the eu and  i think um this could  be what happened h m issued a statement  in september  um nike's statement was in in july last  year so clearly  these aren't new they're just being sort  of weaponized or instrumentalized now  to press homes china's message that it's  angry at the way the eu  has introduced these sanctions all right  so if we're looking at some  real friction there also in terms of  trade i'm turning to  chelsea now uh i wonder how are global  retailers and fashion brands in  particular how are they  watching this development given that  china is such an important market for  them  well it is a lot of is going to be a  major concern for  basically every global retailer if this  does escalate  we'd already seen a lot of retailers  trying to really insulate themselves  from this human rights  issue in xinjiang over the past several  years these statements we've seen  a lot of companies saying they're either  going to remove this cotton from their  supply chain they're going to cut ties  with suppliers so they have been willing  to take that step but  they can't really afford to lose the  chinese consumer it isn't the major  market for a lot of companies right now  it's expected to become only more  important so  this sort of threat that if you boycott  us we're going to boycott you  we've already seen that really being  reflected in the market today for  example here  in uh in frankfurt the dax uh the big  the dax biggest loser today is adidas  which is also getting  uh hit online uh for in china for these  statements as well  all right so so there are some jitters  there  uh chelsea thank you because clifford um  this week the eu together with uh the us  with canada they imposed sanctions on  chinese officials  beijing didn't take kindly to that but  do you feel that the west is now  ready to actually take on china i think  i think what we've seen since biden has  come in since joe biden has come into  power in the u.s we're seeing now  uh basically a much more concerted  effort by by  um the west uh to address these issues  whereas before was a very fractious kind  of approach  and i think that's really going to be um  i think that's going to start playing  out it's going to be interesting to see  what germany does because germany has  really been behind  this uh this trade deal with with china  uh it's very important for the german  economy and  and now it's going to be a huge question  for for the big european powers like  germany and france of course  whether they're going to be able to  balance this need for economic growth  coming from china with the political  requirement with the political aspect  about human rights and other areas and  hong kong and  and xinjiang itself so um i think we're  in for some very difficult um a  difficult period in in eu china  relations  interesting times i would say uh  clifford thank you so much  and uh chelsea delaney there of course  from the frankfurt stock exchange thank  you so much  you\""
      ]
     },
     "execution_count": 4,
     "metadata": {},
     "output_type": "execute_result"
    }
   ],
   "source": [
    "all_transcriptions[1]"
   ]
  },
  {
   "cell_type": "code",
   "execution_count": 5,
   "id": "aa3b21c1",
   "metadata": {},
   "outputs": [],
   "source": [
    "# Add transcriptions to dataframe\n",
    "df['transcript'] = all_transcriptions"
   ]
  },
  {
   "cell_type": "code",
   "execution_count": 6,
   "id": "7fbfea83",
   "metadata": {},
   "outputs": [],
   "source": [
    "# Save \n",
    "df.to_csv(\"data/video_transcription.csv\", index=False)"
   ]
  }
 ],
 "metadata": {
  "kernelspec": {
   "display_name": "Python 3 (ipykernel)",
   "language": "python",
   "name": "python3"
  },
  "language_info": {
   "codemirror_mode": {
    "name": "ipython",
    "version": 3
   },
   "file_extension": ".py",
   "mimetype": "text/x-python",
   "name": "python",
   "nbconvert_exporter": "python",
   "pygments_lexer": "ipython3",
   "version": "3.9.10"
  }
 },
 "nbformat": 4,
 "nbformat_minor": 5
}
